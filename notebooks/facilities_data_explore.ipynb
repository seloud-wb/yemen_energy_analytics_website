{
 "cells": [
  {
   "cell_type": "code",
   "id": "initial_id",
   "metadata": {
    "collapsed": true,
    "ExecuteTime": {
     "end_time": "2025-08-25T11:49:43.357617Z",
     "start_time": "2025-08-25T11:49:42.931844Z"
    }
   },
   "source": "import pandas as pd",
   "outputs": [],
   "execution_count": 1
  },
  {
   "metadata": {
    "ExecuteTime": {
     "end_time": "2025-08-25T11:50:00.796056Z",
     "start_time": "2025-08-25T11:50:00.774105Z"
    }
   },
   "cell_type": "code",
   "source": "df = pd.read_csv('../data/facilities.csv')",
   "id": "f69315436ee8dfa2",
   "outputs": [],
   "execution_count": 2
  },
  {
   "metadata": {
    "ExecuteTime": {
     "end_time": "2025-08-25T11:50:07.087440Z",
     "start_time": "2025-08-25T11:50:07.073718Z"
    }
   },
   "cell_type": "code",
   "source": "df.info()",
   "id": "40b71a8fa716582b",
   "outputs": [
    {
     "name": "stdout",
     "output_type": "stream",
     "text": [
      "<class 'pandas.core.frame.DataFrame'>\n",
      "RangeIndex: 4233 entries, 0 to 4232\n",
      "Data columns (total 14 columns):\n",
      " #   Column                           Non-Null Count  Dtype  \n",
      "---  ------                           --------------  -----  \n",
      " 0   date                             4233 non-null   object \n",
      " 1   Governorate                      4233 non-null   object \n",
      " 2   District                         4222 non-null   object \n",
      " 3   Village Name/ /ozla              3552 non-null   object \n",
      " 4   Type                             4233 non-null   object \n",
      " 5   Facility name                    4233 non-null   object \n",
      " 6   Phase                            4233 non-null   object \n",
      " 7   Status                           4233 non-null   object \n",
      " 8   Comments (if any)                3411 non-null   object \n",
      " 9   Installed/planned capacity (kW)  4233 non-null   float64\n",
      " 10  Male Beneficiaries (approx.)     4182 non-null   float64\n",
      " 11  Female Beneficiaries (approx.)   4221 non-null   float64\n",
      " 12  Total Beneficiaries (approx.)    4233 non-null   int64  \n",
      " 13  Coordinate                       4210 non-null   object \n",
      "dtypes: float64(3), int64(1), object(10)\n",
      "memory usage: 463.1+ KB\n"
     ]
    }
   ],
   "execution_count": 4
  },
  {
   "metadata": {
    "ExecuteTime": {
     "end_time": "2025-08-25T12:46:00.155136Z",
     "start_time": "2025-08-25T12:46:00.150275Z"
    }
   },
   "cell_type": "code",
   "source": "df['Status']",
   "id": "a33201151fdc671e",
   "outputs": [
    {
     "data": {
      "text/plain": [
       "0          Energized\n",
       "1          Energized\n",
       "2          Energized\n",
       "3          Energized\n",
       "4          Energized\n",
       "            ...     \n",
       "4228    Under Design\n",
       "4229    Under Design\n",
       "4230    Under Design\n",
       "4231    Under Design\n",
       "4232    Under Design\n",
       "Name: Status, Length: 4233, dtype: object"
      ]
     },
     "execution_count": 5,
     "metadata": {},
     "output_type": "execute_result"
    }
   ],
   "execution_count": 5
  },
  {
   "metadata": {},
   "cell_type": "code",
   "outputs": [],
   "execution_count": null,
   "source": "",
   "id": "61ee3521929fc80b"
  }
 ],
 "metadata": {
  "kernelspec": {
   "display_name": "Python 3",
   "language": "python",
   "name": "python3"
  },
  "language_info": {
   "codemirror_mode": {
    "name": "ipython",
    "version": 2
   },
   "file_extension": ".py",
   "mimetype": "text/x-python",
   "name": "python",
   "nbconvert_exporter": "python",
   "pygments_lexer": "ipython2",
   "version": "2.7.6"
  }
 },
 "nbformat": 4,
 "nbformat_minor": 5
}
