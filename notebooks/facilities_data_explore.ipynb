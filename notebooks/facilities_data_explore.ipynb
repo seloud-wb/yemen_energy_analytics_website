{
 "cells": [
  {
   "cell_type": "code",
   "id": "initial_id",
   "metadata": {
    "collapsed": true,
    "ExecuteTime": {
     "end_time": "2025-08-25T17:02:29.953128Z",
     "start_time": "2025-08-25T17:02:29.601134Z"
    }
   },
   "source": "import pandas as pd",
   "outputs": [],
   "execution_count": 1
  },
  {
   "metadata": {
    "ExecuteTime": {
     "end_time": "2025-08-25T17:02:30.013262Z",
     "start_time": "2025-08-25T17:02:29.973698Z"
    }
   },
   "cell_type": "code",
   "source": [
    "df = pd.read_csv('../data/facilities.csv')\n",
    "print(df.head())\n",
    "print(df.describe())\n",
    "print(df.info())"
   ],
   "id": "f69315436ee8dfa2",
   "outputs": [
    {
     "name": "stdout",
     "output_type": "stream",
     "text": [
      "         date Governorate               District Village Name/ /ozla    Type  \\\n",
      "0  2025-07-15   Hadramawt        Ghayl Bin Yamin             Al Maqd  School   \n",
      "1  2025-07-15   Hadramawt                  Dawan                Saif  School   \n",
      "2  2025-07-15   Hadramawt          Ghayl Bawazir   Al-Ghail bawazeer  School   \n",
      "3  2025-07-15   Hadramawt  Ar Raydah wa Qussayar       Hay Alshaheed  School   \n",
      "4  2025-07-15   Hadramawt  Ar Raydah wa Qussayar          Al Rayadah  Clinic   \n",
      "\n",
      "                Facility name       Phase     Status Comments (if any)  \\\n",
      "0     Aisha Complex for Girls  Roll-Out-1  Energized             Lot-1   \n",
      "1   Omar bin Abdulaziz School  Roll-Out-1  Energized             Lot-1   \n",
      "2  Girl School Ghail Bawazeer  Roll-Out-1  Energized             Lot-1   \n",
      "3     Girl School in Qusayaar  Roll-Out-1  Energized             Lot-1   \n",
      "4         Al Rayadah hospital  Roll-Out-1  Energized             Lot-1   \n",
      "\n",
      "   Installed/planned capacity (kW)  Male Beneficiaries (approx.)  \\\n",
      "0                              6.6                           0.0   \n",
      "1                              6.6                         200.0   \n",
      "2                             17.6                           0.0   \n",
      "3                              8.8                           0.0   \n",
      "4                             22.0                        7320.0   \n",
      "\n",
      "   Female Beneficiaries (approx.)  Total Beneficiaries (approx.)  \\\n",
      "0                           649.0                            649   \n",
      "1                           226.0                            426   \n",
      "2                           800.0                            800   \n",
      "3                           368.0                            368   \n",
      "4                          7656.0                          14976   \n",
      "\n",
      "            Coordinate  \n",
      "0  15.546326,49.347984  \n",
      "1   15.32405,48.320344  \n",
      "2  14.765667,49.372728  \n",
      "3  14.942097,50.341980  \n",
      "4  15.037327,50.478479  \n",
      "       Installed/planned capacity (kW)  Male Beneficiaries (approx.)  \\\n",
      "count                      4233.000000                   4182.000000   \n",
      "mean                         27.006449                   5487.437590   \n",
      "std                          27.390559                  17240.202713   \n",
      "min                           2.000000                      0.000000   \n",
      "25%                           8.250000                    972.000000   \n",
      "50%                          16.500000                   2100.000000   \n",
      "75%                          41.800000                   3897.000000   \n",
      "max                         210.000000                 229840.000000   \n",
      "\n",
      "       Female Beneficiaries (approx.)  Total Beneficiaries (approx.)  \n",
      "count                     4221.000000                    4233.000000  \n",
      "mean                      6505.049041                   12739.465627  \n",
      "std                      19708.934150                   37783.350993  \n",
      "min                          0.000000                       0.000000  \n",
      "25%                       1248.000000                    2400.000000  \n",
      "50%                       2394.000000                    4800.000000  \n",
      "75%                       4500.000000                    8964.000000  \n",
      "max                     239222.000000                  469062.000000  \n",
      "<class 'pandas.core.frame.DataFrame'>\n",
      "RangeIndex: 4233 entries, 0 to 4232\n",
      "Data columns (total 14 columns):\n",
      " #   Column                           Non-Null Count  Dtype  \n",
      "---  ------                           --------------  -----  \n",
      " 0   date                             4233 non-null   object \n",
      " 1   Governorate                      4233 non-null   object \n",
      " 2   District                         4222 non-null   object \n",
      " 3   Village Name/ /ozla              3552 non-null   object \n",
      " 4   Type                             4233 non-null   object \n",
      " 5   Facility name                    4233 non-null   object \n",
      " 6   Phase                            4233 non-null   object \n",
      " 7   Status                           4233 non-null   object \n",
      " 8   Comments (if any)                3411 non-null   object \n",
      " 9   Installed/planned capacity (kW)  4233 non-null   float64\n",
      " 10  Male Beneficiaries (approx.)     4182 non-null   float64\n",
      " 11  Female Beneficiaries (approx.)   4221 non-null   float64\n",
      " 12  Total Beneficiaries (approx.)    4233 non-null   int64  \n",
      " 13  Coordinate                       4210 non-null   object \n",
      "dtypes: float64(3), int64(1), object(10)\n",
      "memory usage: 463.1+ KB\n",
      "None\n"
     ]
    }
   ],
   "execution_count": 2
  },
  {
   "metadata": {
    "ExecuteTime": {
     "end_time": "2025-08-25T17:02:30.183012Z",
     "start_time": "2025-08-25T17:02:30.163821Z"
    }
   },
   "cell_type": "code",
   "source": [
    "def latest_snapshot(df):\n",
    "    \"\"\"Return dataframe filtered to the latest date available.\"\"\"\n",
    "    latest_date = df[\"date\"].max()\n",
    "    return df[df[\"date\"] == latest_date].copy()\n",
    "\n",
    "df_latest =latest_snapshot(df)\n",
    "df_latest"
   ],
   "id": "5649e7d868791490",
   "outputs": [
    {
     "data": {
      "text/plain": [
       "            date Governorate               District Village Name/ /ozla  \\\n",
       "2822  2025-07-31   Hadramawt        Ghayl Bin Yamin             Al Maqd   \n",
       "2823  2025-07-31   Hadramawt                  Dawan                Saif   \n",
       "2824  2025-07-31   Hadramawt          Ghayl Bawazir   Al-Ghail bawazeer   \n",
       "2825  2025-07-31   Hadramawt  Ar Raydah wa Qussayar       Hay Alshaheed   \n",
       "2826  2025-07-31   Hadramawt  Ar Raydah wa Qussayar          Al Rayadah   \n",
       "...          ...         ...                    ...                 ...   \n",
       "3528  2025-07-31      Ma'rib      Madghal Al Jid'an                 NaN   \n",
       "3529  2025-07-31      Sana'a                Khawlan                 NaN   \n",
       "3530  2025-07-31     Shabwah            Ash Shu'ayb                 NaN   \n",
       "3531  2025-07-31     Shabwah            Ash Shu'ayb                 NaN   \n",
       "3532  2025-07-31     Shabwah                 Raydah                 NaN   \n",
       "\n",
       "        Type               Facility name       Phase        Status  \\\n",
       "2822  School     Aisha Complex for Girls  Roll-Out-1     Energized   \n",
       "2823  School   Omar bin Abdulaziz School  Roll-Out-1     Energized   \n",
       "2824  School  Girl School Ghail Bawazeer  Roll-Out-1     Energized   \n",
       "2825  School     Girl School in Qusayaar  Roll-Out-1     Energized   \n",
       "2826  Clinic         Al Rayadah hospital  Roll-Out-1     Energized   \n",
       "...      ...                         ...         ...           ...   \n",
       "3528    Well                    Al-Otair   Package#8  Under Design   \n",
       "3529    Well                Noor El-Asaf   Package#8  Under Design   \n",
       "3530    Well               AL-Hajer Well   Package#8  Under Design   \n",
       "3531    Well                 Lmater Well   Package#8  Under Design   \n",
       "3532    Well                 AL-Jabiah 2   Package#8  Under Design   \n",
       "\n",
       "     Comments (if any)  Installed/planned capacity (kW)  \\\n",
       "2822             Lot-1                              6.6   \n",
       "2823             Lot-1                              6.6   \n",
       "2824             Lot-1                             17.6   \n",
       "2825             Lot-1                              8.8   \n",
       "2826             Lot-1                             22.0   \n",
       "...                ...                              ...   \n",
       "3528             Lot-2                             45.0   \n",
       "3529             Lot-3                              9.0   \n",
       "3530             Lot-2                             27.0   \n",
       "3531             Lot-2                             27.0   \n",
       "3532             Lot-2                             81.0   \n",
       "\n",
       "      Male Beneficiaries (approx.)  Female Beneficiaries (approx.)  \\\n",
       "2822                           0.0                           649.0   \n",
       "2823                         200.0                           226.0   \n",
       "2824                           0.0                           800.0   \n",
       "2825                           0.0                           368.0   \n",
       "2826                        7320.0                          7656.0   \n",
       "...                            ...                             ...   \n",
       "3528                        2822.0                          2938.0   \n",
       "3529                        1411.0                          1469.0   \n",
       "3530                         823.0                           857.0   \n",
       "3531                        1015.0                          1145.0   \n",
       "3532                        2004.0                          2100.0   \n",
       "\n",
       "      Total Beneficiaries (approx.)                Coordinate  \n",
       "2822                            649       15.546326,49.347984  \n",
       "2823                            426        15.32405,48.320344  \n",
       "2824                            800       14.765667,49.372728  \n",
       "2825                            368       14.942097,50.341980  \n",
       "2826                          14976       15.037327,50.478479  \n",
       "...                             ...                       ...  \n",
       "3528                           5760      14.411771, 44.687928  \n",
       "3529                           2880     14.742903 , 44.054730  \n",
       "3530                           1680       14.158101,44.462242  \n",
       "3531                           2160  15.47118298, 43.63704742  \n",
       "3532                           4104         15.22747,44.70396  \n",
       "\n",
       "[711 rows x 14 columns]"
      ],
      "text/html": [
       "<div>\n",
       "<style scoped>\n",
       "    .dataframe tbody tr th:only-of-type {\n",
       "        vertical-align: middle;\n",
       "    }\n",
       "\n",
       "    .dataframe tbody tr th {\n",
       "        vertical-align: top;\n",
       "    }\n",
       "\n",
       "    .dataframe thead th {\n",
       "        text-align: right;\n",
       "    }\n",
       "</style>\n",
       "<table border=\"1\" class=\"dataframe\">\n",
       "  <thead>\n",
       "    <tr style=\"text-align: right;\">\n",
       "      <th></th>\n",
       "      <th>date</th>\n",
       "      <th>Governorate</th>\n",
       "      <th>District</th>\n",
       "      <th>Village Name/ /ozla</th>\n",
       "      <th>Type</th>\n",
       "      <th>Facility name</th>\n",
       "      <th>Phase</th>\n",
       "      <th>Status</th>\n",
       "      <th>Comments (if any)</th>\n",
       "      <th>Installed/planned capacity (kW)</th>\n",
       "      <th>Male Beneficiaries (approx.)</th>\n",
       "      <th>Female Beneficiaries (approx.)</th>\n",
       "      <th>Total Beneficiaries (approx.)</th>\n",
       "      <th>Coordinate</th>\n",
       "    </tr>\n",
       "  </thead>\n",
       "  <tbody>\n",
       "    <tr>\n",
       "      <th>2822</th>\n",
       "      <td>2025-07-31</td>\n",
       "      <td>Hadramawt</td>\n",
       "      <td>Ghayl Bin Yamin</td>\n",
       "      <td>Al Maqd</td>\n",
       "      <td>School</td>\n",
       "      <td>Aisha Complex for Girls</td>\n",
       "      <td>Roll-Out-1</td>\n",
       "      <td>Energized</td>\n",
       "      <td>Lot-1</td>\n",
       "      <td>6.6</td>\n",
       "      <td>0.0</td>\n",
       "      <td>649.0</td>\n",
       "      <td>649</td>\n",
       "      <td>15.546326,49.347984</td>\n",
       "    </tr>\n",
       "    <tr>\n",
       "      <th>2823</th>\n",
       "      <td>2025-07-31</td>\n",
       "      <td>Hadramawt</td>\n",
       "      <td>Dawan</td>\n",
       "      <td>Saif</td>\n",
       "      <td>School</td>\n",
       "      <td>Omar bin Abdulaziz School</td>\n",
       "      <td>Roll-Out-1</td>\n",
       "      <td>Energized</td>\n",
       "      <td>Lot-1</td>\n",
       "      <td>6.6</td>\n",
       "      <td>200.0</td>\n",
       "      <td>226.0</td>\n",
       "      <td>426</td>\n",
       "      <td>15.32405,48.320344</td>\n",
       "    </tr>\n",
       "    <tr>\n",
       "      <th>2824</th>\n",
       "      <td>2025-07-31</td>\n",
       "      <td>Hadramawt</td>\n",
       "      <td>Ghayl Bawazir</td>\n",
       "      <td>Al-Ghail bawazeer</td>\n",
       "      <td>School</td>\n",
       "      <td>Girl School Ghail Bawazeer</td>\n",
       "      <td>Roll-Out-1</td>\n",
       "      <td>Energized</td>\n",
       "      <td>Lot-1</td>\n",
       "      <td>17.6</td>\n",
       "      <td>0.0</td>\n",
       "      <td>800.0</td>\n",
       "      <td>800</td>\n",
       "      <td>14.765667,49.372728</td>\n",
       "    </tr>\n",
       "    <tr>\n",
       "      <th>2825</th>\n",
       "      <td>2025-07-31</td>\n",
       "      <td>Hadramawt</td>\n",
       "      <td>Ar Raydah wa Qussayar</td>\n",
       "      <td>Hay Alshaheed</td>\n",
       "      <td>School</td>\n",
       "      <td>Girl School in Qusayaar</td>\n",
       "      <td>Roll-Out-1</td>\n",
       "      <td>Energized</td>\n",
       "      <td>Lot-1</td>\n",
       "      <td>8.8</td>\n",
       "      <td>0.0</td>\n",
       "      <td>368.0</td>\n",
       "      <td>368</td>\n",
       "      <td>14.942097,50.341980</td>\n",
       "    </tr>\n",
       "    <tr>\n",
       "      <th>2826</th>\n",
       "      <td>2025-07-31</td>\n",
       "      <td>Hadramawt</td>\n",
       "      <td>Ar Raydah wa Qussayar</td>\n",
       "      <td>Al Rayadah</td>\n",
       "      <td>Clinic</td>\n",
       "      <td>Al Rayadah hospital</td>\n",
       "      <td>Roll-Out-1</td>\n",
       "      <td>Energized</td>\n",
       "      <td>Lot-1</td>\n",
       "      <td>22.0</td>\n",
       "      <td>7320.0</td>\n",
       "      <td>7656.0</td>\n",
       "      <td>14976</td>\n",
       "      <td>15.037327,50.478479</td>\n",
       "    </tr>\n",
       "    <tr>\n",
       "      <th>...</th>\n",
       "      <td>...</td>\n",
       "      <td>...</td>\n",
       "      <td>...</td>\n",
       "      <td>...</td>\n",
       "      <td>...</td>\n",
       "      <td>...</td>\n",
       "      <td>...</td>\n",
       "      <td>...</td>\n",
       "      <td>...</td>\n",
       "      <td>...</td>\n",
       "      <td>...</td>\n",
       "      <td>...</td>\n",
       "      <td>...</td>\n",
       "      <td>...</td>\n",
       "    </tr>\n",
       "    <tr>\n",
       "      <th>3528</th>\n",
       "      <td>2025-07-31</td>\n",
       "      <td>Ma'rib</td>\n",
       "      <td>Madghal Al Jid'an</td>\n",
       "      <td>NaN</td>\n",
       "      <td>Well</td>\n",
       "      <td>Al-Otair</td>\n",
       "      <td>Package#8</td>\n",
       "      <td>Under Design</td>\n",
       "      <td>Lot-2</td>\n",
       "      <td>45.0</td>\n",
       "      <td>2822.0</td>\n",
       "      <td>2938.0</td>\n",
       "      <td>5760</td>\n",
       "      <td>14.411771, 44.687928</td>\n",
       "    </tr>\n",
       "    <tr>\n",
       "      <th>3529</th>\n",
       "      <td>2025-07-31</td>\n",
       "      <td>Sana'a</td>\n",
       "      <td>Khawlan</td>\n",
       "      <td>NaN</td>\n",
       "      <td>Well</td>\n",
       "      <td>Noor El-Asaf</td>\n",
       "      <td>Package#8</td>\n",
       "      <td>Under Design</td>\n",
       "      <td>Lot-3</td>\n",
       "      <td>9.0</td>\n",
       "      <td>1411.0</td>\n",
       "      <td>1469.0</td>\n",
       "      <td>2880</td>\n",
       "      <td>14.742903 , 44.054730</td>\n",
       "    </tr>\n",
       "    <tr>\n",
       "      <th>3530</th>\n",
       "      <td>2025-07-31</td>\n",
       "      <td>Shabwah</td>\n",
       "      <td>Ash Shu'ayb</td>\n",
       "      <td>NaN</td>\n",
       "      <td>Well</td>\n",
       "      <td>AL-Hajer Well</td>\n",
       "      <td>Package#8</td>\n",
       "      <td>Under Design</td>\n",
       "      <td>Lot-2</td>\n",
       "      <td>27.0</td>\n",
       "      <td>823.0</td>\n",
       "      <td>857.0</td>\n",
       "      <td>1680</td>\n",
       "      <td>14.158101,44.462242</td>\n",
       "    </tr>\n",
       "    <tr>\n",
       "      <th>3531</th>\n",
       "      <td>2025-07-31</td>\n",
       "      <td>Shabwah</td>\n",
       "      <td>Ash Shu'ayb</td>\n",
       "      <td>NaN</td>\n",
       "      <td>Well</td>\n",
       "      <td>Lmater Well</td>\n",
       "      <td>Package#8</td>\n",
       "      <td>Under Design</td>\n",
       "      <td>Lot-2</td>\n",
       "      <td>27.0</td>\n",
       "      <td>1015.0</td>\n",
       "      <td>1145.0</td>\n",
       "      <td>2160</td>\n",
       "      <td>15.47118298, 43.63704742</td>\n",
       "    </tr>\n",
       "    <tr>\n",
       "      <th>3532</th>\n",
       "      <td>2025-07-31</td>\n",
       "      <td>Shabwah</td>\n",
       "      <td>Raydah</td>\n",
       "      <td>NaN</td>\n",
       "      <td>Well</td>\n",
       "      <td>AL-Jabiah 2</td>\n",
       "      <td>Package#8</td>\n",
       "      <td>Under Design</td>\n",
       "      <td>Lot-2</td>\n",
       "      <td>81.0</td>\n",
       "      <td>2004.0</td>\n",
       "      <td>2100.0</td>\n",
       "      <td>4104</td>\n",
       "      <td>15.22747,44.70396</td>\n",
       "    </tr>\n",
       "  </tbody>\n",
       "</table>\n",
       "<p>711 rows × 14 columns</p>\n",
       "</div>"
      ]
     },
     "execution_count": 3,
     "metadata": {},
     "output_type": "execute_result"
    }
   ],
   "execution_count": 3
  },
  {
   "metadata": {
    "ExecuteTime": {
     "end_time": "2025-08-25T16:50:12.085287Z",
     "start_time": "2025-08-25T16:50:12.079281Z"
    }
   },
   "cell_type": "code",
   "source": [
    "print(df_latest.groupby('Governorate')['Total Beneficiaries (approx.)'].sum().sum())\n",
    "print(df_latest.groupby('Governorate')['Female Beneficiaries (approx.)'].sum().sum())\n",
    "print(df_latest.groupby('Governorate')['Male Beneficiaries (approx.)'].sum().sum())"
   ],
   "id": "8dc32cd6818b70ed",
   "outputs": [
    {
     "name": "stdout",
     "output_type": "stream",
     "text": [
      "8421782\n",
      "4587139.0\n",
      "3834643.0\n"
     ]
    }
   ],
   "execution_count": 58
  },
  {
   "metadata": {},
   "cell_type": "markdown",
   "source": "# Status",
   "id": "ac01ad3a1491a290"
  },
  {
   "metadata": {},
   "cell_type": "code",
   "outputs": [],
   "execution_count": null,
   "source": "",
   "id": "7c5612906d1d4315"
  },
  {
   "metadata": {
    "ExecuteTime": {
     "end_time": "2025-08-25T16:10:38.945188Z",
     "start_time": "2025-08-25T16:10:38.935904Z"
    }
   },
   "cell_type": "code",
   "source": [
    "import pandas as pd\n",
    "\n",
    "# Assuming df is your dataframe\n",
    "energized_by_date = (\n",
    "    df[df[\"Status\"] == \"Energized\"]      # filter for energized facilities\n",
    "      .groupby(\"date\")[\"Facility name\"]  # group by date, use facility column\n",
    "      .count()                           # count facilities\n",
    "      .reset_index(name=\"Energized_Facilities\")\n",
    ")\n",
    "\n",
    "print(energized_by_date)"
   ],
   "id": "9d966b201e5f86ac",
   "outputs": [
    {
     "name": "stdout",
     "output_type": "stream",
     "text": [
      "         date  Energized_Facilities\n",
      "0  2025-05-15                   444\n",
      "1  2025-05-29                   446\n",
      "2  2025-06-15                   447\n",
      "3  2025-06-30                   447\n",
      "4  2025-07-15                   448\n",
      "5  2025-07-31                   451\n"
     ]
    }
   ],
   "execution_count": 47
  },
  {
   "metadata": {
    "ExecuteTime": {
     "end_time": "2025-08-25T16:09:31.864313Z",
     "start_time": "2025-08-25T16:09:31.860621Z"
    }
   },
   "cell_type": "code",
   "source": [
    "df.groupby('date')\n",
    "\n"
   ],
   "id": "a33201151fdc671e",
   "outputs": [
    {
     "data": {
      "text/plain": [
       "<pandas.core.groupby.generic.DataFrameGroupBy object at 0x1149c4fb0>"
      ]
     },
     "execution_count": 45,
     "metadata": {},
     "output_type": "execute_result"
    }
   ],
   "execution_count": 45
  },
  {
   "metadata": {
    "ExecuteTime": {
     "end_time": "2025-08-25T15:50:37.497372Z",
     "start_time": "2025-08-25T15:50:37.481376Z"
    }
   },
   "cell_type": "code",
   "source": [
    "import plotly.express as px\n",
    "import plotly.io as pio\n",
    "\n",
    "pio.templates.default = 'plotly_white'\n",
    "\n",
    "\n"
   ],
   "id": "f745826b77d3c6b4",
   "outputs": [],
   "execution_count": 35
  },
  {
   "metadata": {
    "ExecuteTime": {
     "end_time": "2025-08-25T14:44:45.153317Z",
     "start_time": "2025-08-25T14:44:45.105734Z"
    }
   },
   "cell_type": "code",
   "source": [
    "import pandas as pd\n",
    "import plotly.express as px\n",
    "\n",
    "import pandas as pd\n",
    "import plotly.express as px\n",
    "\n",
    "def plot_facility_status_pie(df: pd.DataFrame, width: int = 600, height: int = 400):\n",
    "    \"\"\"\n",
    "    Create a pie chart of facility status distribution\n",
    "    with the legend displayed horizontally below the chart.\n",
    "\n",
    "    Parameters\n",
    "    ----------\n",
    "    df : pandas.DataFrame\n",
    "        Facilities dataset with a 'Status' column.\n",
    "    width : int\n",
    "        Width of the chart in pixels.\n",
    "    height : int\n",
    "        Height of the chart in pixels.\n",
    "\n",
    "    Returns\n",
    "    -------\n",
    "    fig : plotly.graph_objects.Figure\n",
    "        Interactive pie chart figure.\n",
    "    \"\"\"\n",
    "    # Count facilities by status\n",
    "    status_counts = df['Status'].value_counts().reset_index()\n",
    "    status_counts.columns = ['Status', 'Count']\n",
    "\n",
    "    # Build pie chart\n",
    "    fig = px.pie(\n",
    "        status_counts,\n",
    "        names=\"Status\",\n",
    "        values=\"Count\",\n",
    "        hole=0.3,\n",
    "        width=width,\n",
    "        height=height\n",
    "    )\n",
    "\n",
    "    # Place legend below the chart\n",
    "    fig.update_layout(\n",
    "        autosize=False,  # don't let Plotly resize on its own\n",
    "        width=width,\n",
    "        height=height,\n",
    "        title=None,\n",
    "        legend=dict(\n",
    "            orientation=\"h\",   # horizontal layout\n",
    "            x=0.5,             # center horizontally\n",
    "            xanchor=\"center\",\n",
    "            y=-0.2             # below chart\n",
    "        ),\n",
    "        margin=dict(l=20, r=20, t=20, b=80),\n",
    "        plot_bgcolor=\"lightyellow\",   # chart area background\n",
    "        paper_bgcolor=\"lightblue\"   # whole figure background\n",
    "    )\n",
    "        # Add bounding box (rectangle across entire figure)\n",
    "    fig.add_shape(\n",
    "        type=\"rect\",\n",
    "        x0=0, y0=0, x1=1, y1=1,  # normalized coordinates (0–1 = whole figure)\n",
    "        xref=\"paper\", yref=\"paper\",\n",
    "        line=dict(color=\"black\", width=3),\n",
    "        fillcolor=\"rgba(0,0,0,0)\"  # transparent fill\n",
    "    )\n",
    "\n",
    "    return fig\n",
    "\n",
    "\n",
    "fig = plot_facility_status_pie(df, width=400, height=400)\n",
    "\n",
    "# Inspect the width/height stored in layout\n",
    "print(\"Figure size (requested):\", fig.layout.width, \"x\", fig.layout.height)\n",
    "\n",
    "fig.show()"
   ],
   "id": "61ee3521929fc80b",
   "outputs": [
    {
     "name": "stdout",
     "output_type": "stream",
     "text": [
      "Figure size (requested): 400 x 400\n"
     ]
    },
    {
     "data": {
      "application/vnd.plotly.v1+json": {
       "data": [
        {
         "domain": {
          "x": [
           0.0,
           1.0
          ],
          "y": [
           0.0,
           1.0
          ]
         },
         "hole": 0.3,
         "hovertemplate": "Status=%{label}<br>Count=%{value}<extra></extra>",
         "labels": [
          "Energized",
          "Contract awarded",
          "Under Design",
          "Tender launched"
         ],
         "legendgroup": "",
         "name": "",
         "showlegend": true,
         "values": {
          "dtype": "i2",
          "bdata": "ewpkBCQBhgA="
         },
         "type": "pie"
        }
       ],
       "layout": {
        "template": {
         "data": {
          "histogram2dcontour": [
           {
            "type": "histogram2dcontour",
            "colorbar": {
             "outlinewidth": 0,
             "ticks": ""
            },
            "colorscale": [
             [
              0.0,
              "#0d0887"
             ],
             [
              0.1111111111111111,
              "#46039f"
             ],
             [
              0.2222222222222222,
              "#7201a8"
             ],
             [
              0.3333333333333333,
              "#9c179e"
             ],
             [
              0.4444444444444444,
              "#bd3786"
             ],
             [
              0.5555555555555556,
              "#d8576b"
             ],
             [
              0.6666666666666666,
              "#ed7953"
             ],
             [
              0.7777777777777778,
              "#fb9f3a"
             ],
             [
              0.8888888888888888,
              "#fdca26"
             ],
             [
              1.0,
              "#f0f921"
             ]
            ]
           }
          ],
          "choropleth": [
           {
            "type": "choropleth",
            "colorbar": {
             "outlinewidth": 0,
             "ticks": ""
            }
           }
          ],
          "histogram2d": [
           {
            "type": "histogram2d",
            "colorbar": {
             "outlinewidth": 0,
             "ticks": ""
            },
            "colorscale": [
             [
              0.0,
              "#0d0887"
             ],
             [
              0.1111111111111111,
              "#46039f"
             ],
             [
              0.2222222222222222,
              "#7201a8"
             ],
             [
              0.3333333333333333,
              "#9c179e"
             ],
             [
              0.4444444444444444,
              "#bd3786"
             ],
             [
              0.5555555555555556,
              "#d8576b"
             ],
             [
              0.6666666666666666,
              "#ed7953"
             ],
             [
              0.7777777777777778,
              "#fb9f3a"
             ],
             [
              0.8888888888888888,
              "#fdca26"
             ],
             [
              1.0,
              "#f0f921"
             ]
            ]
           }
          ],
          "heatmap": [
           {
            "type": "heatmap",
            "colorbar": {
             "outlinewidth": 0,
             "ticks": ""
            },
            "colorscale": [
             [
              0.0,
              "#0d0887"
             ],
             [
              0.1111111111111111,
              "#46039f"
             ],
             [
              0.2222222222222222,
              "#7201a8"
             ],
             [
              0.3333333333333333,
              "#9c179e"
             ],
             [
              0.4444444444444444,
              "#bd3786"
             ],
             [
              0.5555555555555556,
              "#d8576b"
             ],
             [
              0.6666666666666666,
              "#ed7953"
             ],
             [
              0.7777777777777778,
              "#fb9f3a"
             ],
             [
              0.8888888888888888,
              "#fdca26"
             ],
             [
              1.0,
              "#f0f921"
             ]
            ]
           }
          ],
          "contourcarpet": [
           {
            "type": "contourcarpet",
            "colorbar": {
             "outlinewidth": 0,
             "ticks": ""
            }
           }
          ],
          "contour": [
           {
            "type": "contour",
            "colorbar": {
             "outlinewidth": 0,
             "ticks": ""
            },
            "colorscale": [
             [
              0.0,
              "#0d0887"
             ],
             [
              0.1111111111111111,
              "#46039f"
             ],
             [
              0.2222222222222222,
              "#7201a8"
             ],
             [
              0.3333333333333333,
              "#9c179e"
             ],
             [
              0.4444444444444444,
              "#bd3786"
             ],
             [
              0.5555555555555556,
              "#d8576b"
             ],
             [
              0.6666666666666666,
              "#ed7953"
             ],
             [
              0.7777777777777778,
              "#fb9f3a"
             ],
             [
              0.8888888888888888,
              "#fdca26"
             ],
             [
              1.0,
              "#f0f921"
             ]
            ]
           }
          ],
          "surface": [
           {
            "type": "surface",
            "colorbar": {
             "outlinewidth": 0,
             "ticks": ""
            },
            "colorscale": [
             [
              0.0,
              "#0d0887"
             ],
             [
              0.1111111111111111,
              "#46039f"
             ],
             [
              0.2222222222222222,
              "#7201a8"
             ],
             [
              0.3333333333333333,
              "#9c179e"
             ],
             [
              0.4444444444444444,
              "#bd3786"
             ],
             [
              0.5555555555555556,
              "#d8576b"
             ],
             [
              0.6666666666666666,
              "#ed7953"
             ],
             [
              0.7777777777777778,
              "#fb9f3a"
             ],
             [
              0.8888888888888888,
              "#fdca26"
             ],
             [
              1.0,
              "#f0f921"
             ]
            ]
           }
          ],
          "mesh3d": [
           {
            "type": "mesh3d",
            "colorbar": {
             "outlinewidth": 0,
             "ticks": ""
            }
           }
          ],
          "scatter": [
           {
            "fillpattern": {
             "fillmode": "overlay",
             "size": 10,
             "solidity": 0.2
            },
            "type": "scatter"
           }
          ],
          "parcoords": [
           {
            "type": "parcoords",
            "line": {
             "colorbar": {
              "outlinewidth": 0,
              "ticks": ""
             }
            }
           }
          ],
          "scatterpolargl": [
           {
            "type": "scatterpolargl",
            "marker": {
             "colorbar": {
              "outlinewidth": 0,
              "ticks": ""
             }
            }
           }
          ],
          "bar": [
           {
            "error_x": {
             "color": "#2a3f5f"
            },
            "error_y": {
             "color": "#2a3f5f"
            },
            "marker": {
             "line": {
              "color": "#E5ECF6",
              "width": 0.5
             },
             "pattern": {
              "fillmode": "overlay",
              "size": 10,
              "solidity": 0.2
             }
            },
            "type": "bar"
           }
          ],
          "scattergeo": [
           {
            "type": "scattergeo",
            "marker": {
             "colorbar": {
              "outlinewidth": 0,
              "ticks": ""
             }
            }
           }
          ],
          "scatterpolar": [
           {
            "type": "scatterpolar",
            "marker": {
             "colorbar": {
              "outlinewidth": 0,
              "ticks": ""
             }
            }
           }
          ],
          "histogram": [
           {
            "marker": {
             "pattern": {
              "fillmode": "overlay",
              "size": 10,
              "solidity": 0.2
             }
            },
            "type": "histogram"
           }
          ],
          "scattergl": [
           {
            "type": "scattergl",
            "marker": {
             "colorbar": {
              "outlinewidth": 0,
              "ticks": ""
             }
            }
           }
          ],
          "scatter3d": [
           {
            "type": "scatter3d",
            "line": {
             "colorbar": {
              "outlinewidth": 0,
              "ticks": ""
             }
            },
            "marker": {
             "colorbar": {
              "outlinewidth": 0,
              "ticks": ""
             }
            }
           }
          ],
          "scattermap": [
           {
            "type": "scattermap",
            "marker": {
             "colorbar": {
              "outlinewidth": 0,
              "ticks": ""
             }
            }
           }
          ],
          "scattermapbox": [
           {
            "type": "scattermapbox",
            "marker": {
             "colorbar": {
              "outlinewidth": 0,
              "ticks": ""
             }
            }
           }
          ],
          "scatterternary": [
           {
            "type": "scatterternary",
            "marker": {
             "colorbar": {
              "outlinewidth": 0,
              "ticks": ""
             }
            }
           }
          ],
          "scattercarpet": [
           {
            "type": "scattercarpet",
            "marker": {
             "colorbar": {
              "outlinewidth": 0,
              "ticks": ""
             }
            }
           }
          ],
          "carpet": [
           {
            "aaxis": {
             "endlinecolor": "#2a3f5f",
             "gridcolor": "white",
             "linecolor": "white",
             "minorgridcolor": "white",
             "startlinecolor": "#2a3f5f"
            },
            "baxis": {
             "endlinecolor": "#2a3f5f",
             "gridcolor": "white",
             "linecolor": "white",
             "minorgridcolor": "white",
             "startlinecolor": "#2a3f5f"
            },
            "type": "carpet"
           }
          ],
          "table": [
           {
            "cells": {
             "fill": {
              "color": "#EBF0F8"
             },
             "line": {
              "color": "white"
             }
            },
            "header": {
             "fill": {
              "color": "#C8D4E3"
             },
             "line": {
              "color": "white"
             }
            },
            "type": "table"
           }
          ],
          "barpolar": [
           {
            "marker": {
             "line": {
              "color": "#E5ECF6",
              "width": 0.5
             },
             "pattern": {
              "fillmode": "overlay",
              "size": 10,
              "solidity": 0.2
             }
            },
            "type": "barpolar"
           }
          ],
          "pie": [
           {
            "automargin": true,
            "type": "pie"
           }
          ]
         },
         "layout": {
          "autotypenumbers": "strict",
          "colorway": [
           "#636efa",
           "#EF553B",
           "#00cc96",
           "#ab63fa",
           "#FFA15A",
           "#19d3f3",
           "#FF6692",
           "#B6E880",
           "#FF97FF",
           "#FECB52"
          ],
          "font": {
           "color": "#2a3f5f"
          },
          "hovermode": "closest",
          "hoverlabel": {
           "align": "left"
          },
          "paper_bgcolor": "white",
          "plot_bgcolor": "#E5ECF6",
          "polar": {
           "bgcolor": "#E5ECF6",
           "angularaxis": {
            "gridcolor": "white",
            "linecolor": "white",
            "ticks": ""
           },
           "radialaxis": {
            "gridcolor": "white",
            "linecolor": "white",
            "ticks": ""
           }
          },
          "ternary": {
           "bgcolor": "#E5ECF6",
           "aaxis": {
            "gridcolor": "white",
            "linecolor": "white",
            "ticks": ""
           },
           "baxis": {
            "gridcolor": "white",
            "linecolor": "white",
            "ticks": ""
           },
           "caxis": {
            "gridcolor": "white",
            "linecolor": "white",
            "ticks": ""
           }
          },
          "coloraxis": {
           "colorbar": {
            "outlinewidth": 0,
            "ticks": ""
           }
          },
          "colorscale": {
           "sequential": [
            [
             0.0,
             "#0d0887"
            ],
            [
             0.1111111111111111,
             "#46039f"
            ],
            [
             0.2222222222222222,
             "#7201a8"
            ],
            [
             0.3333333333333333,
             "#9c179e"
            ],
            [
             0.4444444444444444,
             "#bd3786"
            ],
            [
             0.5555555555555556,
             "#d8576b"
            ],
            [
             0.6666666666666666,
             "#ed7953"
            ],
            [
             0.7777777777777778,
             "#fb9f3a"
            ],
            [
             0.8888888888888888,
             "#fdca26"
            ],
            [
             1.0,
             "#f0f921"
            ]
           ],
           "sequentialminus": [
            [
             0.0,
             "#0d0887"
            ],
            [
             0.1111111111111111,
             "#46039f"
            ],
            [
             0.2222222222222222,
             "#7201a8"
            ],
            [
             0.3333333333333333,
             "#9c179e"
            ],
            [
             0.4444444444444444,
             "#bd3786"
            ],
            [
             0.5555555555555556,
             "#d8576b"
            ],
            [
             0.6666666666666666,
             "#ed7953"
            ],
            [
             0.7777777777777778,
             "#fb9f3a"
            ],
            [
             0.8888888888888888,
             "#fdca26"
            ],
            [
             1.0,
             "#f0f921"
            ]
           ],
           "diverging": [
            [
             0,
             "#8e0152"
            ],
            [
             0.1,
             "#c51b7d"
            ],
            [
             0.2,
             "#de77ae"
            ],
            [
             0.3,
             "#f1b6da"
            ],
            [
             0.4,
             "#fde0ef"
            ],
            [
             0.5,
             "#f7f7f7"
            ],
            [
             0.6,
             "#e6f5d0"
            ],
            [
             0.7,
             "#b8e186"
            ],
            [
             0.8,
             "#7fbc41"
            ],
            [
             0.9,
             "#4d9221"
            ],
            [
             1,
             "#276419"
            ]
           ]
          },
          "xaxis": {
           "gridcolor": "white",
           "linecolor": "white",
           "ticks": "",
           "title": {
            "standoff": 15
           },
           "zerolinecolor": "white",
           "automargin": true,
           "zerolinewidth": 2
          },
          "yaxis": {
           "gridcolor": "white",
           "linecolor": "white",
           "ticks": "",
           "title": {
            "standoff": 15
           },
           "zerolinecolor": "white",
           "automargin": true,
           "zerolinewidth": 2
          },
          "scene": {
           "xaxis": {
            "backgroundcolor": "#E5ECF6",
            "gridcolor": "white",
            "linecolor": "white",
            "showbackground": true,
            "ticks": "",
            "zerolinecolor": "white",
            "gridwidth": 2
           },
           "yaxis": {
            "backgroundcolor": "#E5ECF6",
            "gridcolor": "white",
            "linecolor": "white",
            "showbackground": true,
            "ticks": "",
            "zerolinecolor": "white",
            "gridwidth": 2
           },
           "zaxis": {
            "backgroundcolor": "#E5ECF6",
            "gridcolor": "white",
            "linecolor": "white",
            "showbackground": true,
            "ticks": "",
            "zerolinecolor": "white",
            "gridwidth": 2
           }
          },
          "shapedefaults": {
           "line": {
            "color": "#2a3f5f"
           }
          },
          "annotationdefaults": {
           "arrowcolor": "#2a3f5f",
           "arrowhead": 0,
           "arrowwidth": 1
          },
          "geo": {
           "bgcolor": "white",
           "landcolor": "#E5ECF6",
           "subunitcolor": "white",
           "showland": true,
           "showlakes": true,
           "lakecolor": "white"
          },
          "title": {
           "x": 0.05
          },
          "mapbox": {
           "style": "light"
          }
         }
        },
        "legend": {
         "tracegroupgap": 0,
         "orientation": "h",
         "x": 0.5,
         "xanchor": "center",
         "y": -0.2
        },
        "margin": {
         "t": 20,
         "l": 20,
         "r": 20,
         "b": 80
        },
        "height": 400,
        "width": 400,
        "autosize": false,
        "title": {},
        "plot_bgcolor": "lightyellow",
        "paper_bgcolor": "lightblue",
        "shapes": [
         {
          "fillcolor": "rgba(0,0,0,0)",
          "line": {
           "color": "black",
           "width": 3
          },
          "type": "rect",
          "x0": 0,
          "x1": 1,
          "xref": "paper",
          "y0": 0,
          "y1": 1,
          "yref": "paper"
         }
        ]
       },
       "config": {
        "plotlyServerURL": "https://plot.ly"
       }
      }
     },
     "metadata": {},
     "output_type": "display_data"
    }
   ],
   "execution_count": 34
  },
  {
   "metadata": {
    "ExecuteTime": {
     "end_time": "2025-08-25T16:26:47.812127Z",
     "start_time": "2025-08-25T16:26:47.806242Z"
    }
   },
   "cell_type": "code",
   "source": "df.groupby('date')['Total Beneficiaries (approx.)'].sum()",
   "id": "7a825da9a3976f15",
   "outputs": [
    {
     "data": {
      "text/plain": [
       "date\n",
       "2025-05-15    9553604\n",
       "2025-05-29    9553604\n",
       "2025-06-15    9553604\n",
       "2025-06-30    8421782\n",
       "2025-07-15    8421782\n",
       "2025-07-31    8421782\n",
       "Name: Total Beneficiaries (approx.), dtype: int64"
      ]
     },
     "execution_count": 50,
     "metadata": {},
     "output_type": "execute_result"
    }
   ],
   "execution_count": 50
  },
  {
   "metadata": {},
   "cell_type": "code",
   "outputs": [],
   "execution_count": null,
   "source": "",
   "id": "cfb07d147254f10f"
  }
 ],
 "metadata": {
  "kernelspec": {
   "display_name": "Python 3",
   "language": "python",
   "name": "python3"
  },
  "language_info": {
   "codemirror_mode": {
    "name": "ipython",
    "version": 2
   },
   "file_extension": ".py",
   "mimetype": "text/x-python",
   "name": "python",
   "nbconvert_exporter": "python",
   "pygments_lexer": "ipython2",
   "version": "2.7.6"
  }
 },
 "nbformat": 4,
 "nbformat_minor": 5
}
